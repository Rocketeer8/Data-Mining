{
  "nbformat": 4,
  "nbformat_minor": 0,
  "metadata": {
    "colab": {
      "provenance": []
    },
    "kernelspec": {
      "name": "python3",
      "display_name": "Python 3"
    },
    "language_info": {
      "name": "python"
    }
  },
  "cells": [
    {
      "cell_type": "markdown",
      "source": [
        "# **Table of Content**"
      ],
      "metadata": {
        "id": "c4VU4OQEL3qF"
      }
    },
    {
      "cell_type": "markdown",
      "source": [
        "**Regression**:\n",
        "\n",
        "[Problem we are trying to solve](#section-a1)\n",
        "\n",
        "[Check data type and visualize data](#section-a2)\n",
        "\n",
        "[Data Exploratory using Clustering](#section-a3)\n",
        "\n",
        "[Select Optimal Features](#section-a4)\n",
        "\n",
        "[Reduce Data Dimension](#section-a5)\n",
        "\n",
        "[Algorithm - Decision Tree (Regression)](#section-a6)\n",
        "\n",
        "[Algorithm - Linear Regression](#section-a7)\n",
        "\n",
        "[Algorithm - KNN (Regression)](#section-a8)\n",
        "\n",
        "[Algorithm - Random Forest (Regression)](#section-a9)\n",
        "\n",
        "[Conclusion and Findings](#section-a10)\n",
        "\n",
        "\n",
        "\n",
        "**Classification**:\n",
        "\n",
        "[Problem we are trying to solve](#section-b1)\n",
        "\n",
        "[Check data type and visualize data](#section-b2)\n",
        "\n",
        "[Data Exploratory using Clustering](#section-b3)\n",
        "\n",
        "[Select Optimal Features](#section-b4)\n",
        "\n",
        "[Reduce Data Dimension](#section-b5)\n",
        "\n",
        "[Algorithm - Decision Tree (Classification)](#section-b6)\n",
        "\n",
        "[Algorithm - KNN (Classification)](#section-b7)\n",
        "\n",
        "[Algorithm - Logistic Regression](#section-b8)\n",
        "\n",
        "[Algorithm - Random Forest (Classification)](#section-b9)\n",
        "\n",
        "[Conclusion and Findings](#section-b10)"
      ],
      "metadata": {
        "id": "2S186-XyL8DG"
      }
    },
    {
      "cell_type": "markdown",
      "source": [
        "# **Regression**"
      ],
      "metadata": {
        "id": "otoLZrypVfGg"
      }
    },
    {
      "cell_type": "markdown",
      "source": [
        "<a name=\"section-a1\"></a> **Problem: Determine the best algorithm that accurately predict the percetage of hospitalized patient with COVID given data (features such as previous day COVID admission, hospital beds used, etc).**"
      ],
      "metadata": {
        "id": "CGnKAtvVOAnt"
      }
    },
    {
      "cell_type": "markdown",
      "source": [
        "\n",
        "\n",
        "---\n",
        "\n"
      ],
      "metadata": {
        "id": "2eA8B5viSNWa"
      }
    },
    {
      "cell_type": "markdown",
      "source": [
        "**Check data type and visualize data** <a name=\"section-a2\"></a>"
      ],
      "metadata": {
        "id": "bY6st5BpO_nb"
      }
    },
    {
      "cell_type": "code",
      "source": [
        "import pandas as pd\n",
        "from sklearn.model_selection import train_test_split\n",
        "import numpy as np\n",
        "from sklearn import metrics, datasets\n",
        "import matplotlib.pyplot as plt\n",
        "%matplotlib inline\n",
        "from sklearn.feature_selection import RFECV\n",
        "from sklearn.neighbors import KNeighborsClassifier\n",
        "from sklearn.model_selection import KFold\n",
        "from sklearn.model_selection import StratifiedKFold\n",
        "from sklearn.model_selection import cross_val_score\n",
        "from sklearn.linear_model import LogisticRegression\n",
        "from scipy.cluster.hierarchy import linkage, dendrogram\n",
        "from sklearn import preprocessing\n",
        "from sklearn.decomposition import PCA\n",
        "from sklearn import decomposition\n",
        "\n",
        "pd.set_option('display.max_columns', 10)\n",
        "pd.set_option('display.max_rows', 30)\n",
        "pd.set_option('display.width', 10000)\n",
        "\n",
        "data = pd.read_csv('/COVID-19_Reported_Patient_Impact_and_Hospital_Capacity_by_State.csv')\n",
        "\n",
        "print(data.info())\n",
        "print(data.describe())\n",
        "print(data)"
      ],
      "metadata": {
        "colab": {
          "base_uri": "https://localhost:8080/"
        },
        "id": "3gyFLoGEOBEV",
        "outputId": "67c7d87c-91a8-4501-eb9a-7235f2a40fd3"
      },
      "execution_count": 10,
      "outputs": [
        {
          "output_type": "stream",
          "name": "stdout",
          "text": [
            "<class 'pandas.core.frame.DataFrame'>\n",
            "RangeIndex: 54 entries, 0 to 53\n",
            "Columns: 134 entries, state to total_staffed_pediatric_icu_beds_coverage\n",
            "dtypes: float64(41), int64(92), object(1)\n",
            "memory usage: 56.7+ KB\n",
            "None\n",
            "       critical_staffing_shortage_today_yes  critical_staffing_shortage_today_no  critical_staffing_shortage_today_not_reported  critical_staffing_shortage_anticipated_within_week_yes  critical_staffing_shortage_anticipated_within_week_no  ...  staffed_icu_pediatric_patients_confirmed_covid_coverage  staffed_pediatric_icu_bed_occupancy  staffed_pediatric_icu_bed_occupancy_coverage  total_staffed_pediatric_icu_beds  total_staffed_pediatric_icu_beds_coverage\n",
            "count                             54.000000                            54.000000                                      54.000000                                          54.000000                                               54.000000      ...                                          54.000000                                  54.000000                                     54.000000                         54.000000                                  54.000000\n",
            "mean                               2.388889                            17.648148                                      75.407407                                           6.148148                                               58.777778      ...                                          93.166667                                 111.740741                                     93.166667                        168.222222                                  93.148148\n",
            "std                                4.759961                            26.142684                                      70.871800                                           7.953657                                               50.346223      ...                                          80.642175                                 170.736605                                     80.642175                        248.683148                                  80.642329\n",
            "min                                0.000000                             0.000000                                       1.000000                                           0.000000                                                0.000000      ...                                           1.000000                                   0.000000                                      1.000000                          0.000000                                   1.000000\n",
            "25%                                0.000000                             2.000000                                      31.250000                                           1.000000                                               18.000000      ...                                          44.250000                                  14.250000                                     44.250000                         30.250000                                  44.250000\n",
            "50%                                1.000000                             6.500000                                      53.500000                                           2.500000                                               50.500000      ...                                          86.000000                                  53.500000                                     86.000000                         89.000000                                  86.000000\n",
            "75%                                2.000000                            22.500000                                      96.500000                                           8.000000                                               84.000000      ...                                         122.750000                                 115.000000                                    122.750000                        178.000000                                 122.750000\n",
            "max                               26.000000                           110.000000                                     432.000000                                          37.000000                                              248.000000      ...                                         459.000000                                 837.000000                                    459.000000                       1294.000000                                 459.000000\n",
            "\n",
            "[8 rows x 133 columns]\n",
            "   state  critical_staffing_shortage_today_yes  critical_staffing_shortage_today_no  critical_staffing_shortage_today_not_reported  critical_staffing_shortage_anticipated_within_week_yes  ...  staffed_icu_pediatric_patients_confirmed_covid_coverage  staffed_pediatric_icu_bed_occupancy  staffed_pediatric_icu_bed_occupancy_coverage  total_staffed_pediatric_icu_beds  total_staffed_pediatric_icu_beds_coverage\n",
            "0     AK                                     1                                    6                                             11                                                  1       ...                                                 18                                          5                                            18                                 6                                         18\n",
            "1     CA                                    10                                  102                                            241                                                 37       ...                                                345                                        837                                           345                              1294                                        345\n",
            "2     FL                                     3                                   41                                            171                                                  8       ...                                                209                                        695                                           209                               980                                        209\n",
            "3     SC                                    17                                    6                                             39                                                 20       ...                                                 61                                         54                                            61                                95                                         61\n",
            "4     MN                                     0                                    0                                            128                                                  6       ...                                                127                                         89                                           127                               118                                        127\n",
            "..   ...                                   ...                                  ...                                            ...                                                ...       ...                                                ...                                        ...                                           ...                               ...                                        ...\n",
            "49    WI                                     9                                   73                                             52                                                  8       ...                                                131                                         69                                           131                                93                                        131\n",
            "50    LA                                     3                                   21                                            121                                                  2       ...                                                142                                        142                                           142                               215                                        142\n",
            "51    AZ                                     0                                   11                                             78                                                  0       ...                                                 86                                        181                                            86                               297                                         86\n",
            "52    VA                                     9                                   31                                             53                                                 11       ...                                                 90                                        120                                            90                               184                                         90\n",
            "53    IL                                     2                                   50                                            121                                                  2       ...                                                168                                        354                                           168                               525                                        168\n",
            "\n",
            "[54 rows x 134 columns]\n"
          ]
        }
      ]
    },
    {
      "cell_type": "markdown",
      "source": [
        "\n",
        "\n",
        "---\n",
        "\n"
      ],
      "metadata": {
        "id": "0X7MM_6vSPUc"
      }
    },
    {
      "cell_type": "markdown",
      "source": [
        "**Data Exploratory using Clustering**:<a name=\"section-a3\"></a>\n",
        "\n",
        "After data visualization, do some data exloration using Hierarchical Clustering using states as labels and see if we can spot any patterns"
      ],
      "metadata": {
        "id": "MfJEVC-pQIif"
      }
    },
    {
      "cell_type": "code",
      "execution_count": 7,
      "metadata": {
        "colab": {
          "base_uri": "https://localhost:8080/",
          "height": 541
        },
        "id": "QATpeZC0IMsB",
        "outputId": "b23447f4-75d9-4bab-a797-061b59540558"
      },
      "outputs": [
        {
          "output_type": "display_data",
          "data": {
            "text/plain": [
              "<Figure size 2000x1000 with 1 Axes>"
            ],
            "image/png": "[encoded data removed]"
          },
          "metadata": {}
        }
      ],
      "source": [
        "state = list(data['state'])\n",
        "\n",
        "data = data.iloc[: , 1:]\n",
        "data = data.fillna(0)\n",
        "\n",
        "mergings = linkage(data, method='complete')\n",
        "\n",
        "plt.figure(figsize=(20, 10))\n",
        "\n",
        "dendrogram(mergings,\n",
        "           p = 6,\n",
        "           truncate_mode = 'level',\n",
        "           labels = state,\n",
        "leaf_rotation=90,\n",
        "leaf_font_size=10,\n",
        ")\n",
        "\n",
        "plt.show()"
      ]
    },
    {
      "cell_type": "markdown",
      "source": [
        "**Conclusion from clustering:** States like CA and FL, and TX and NY appears to be similar to each other in terms of Covid hospitalization.\n",
        "\n",
        "Others states that are similar includes AS and VI, AK and VT"
      ],
      "metadata": {
        "id": "A3KUzSZxQ0j1"
      }
    },
    {
      "cell_type": "markdown",
      "source": [
        "\n",
        "\n",
        "---\n",
        "\n"
      ],
      "metadata": {
        "id": "YV6DV1DQN4KN"
      }
    },
    {
      "cell_type": "markdown",
      "source": [
        "**Select Optimal Features**<a name=\"section-a4\"></a>\n",
        "\n",
        "Given we have 49 features, and given the target variable is percentage of hospitalized patient with COVID in each state, we want to find number of optimal features out of all 49 features\n",
        "\n",
        "Since feature selection for LogReg only work with discrete dataset, we want to apply discretization to our target variable first\n",
        "\n",
        "\n",
        "\n"
      ],
      "metadata": {
        "id": "b6AiOcX9DLQC"
      }
    },
    {
      "cell_type": "code",
      "source": [
        "# discretization of the target variable\n",
        "y = data['percent_of_inpatients_with_covid'] * 100\n",
        "y_discrete = np.digitize(y,[0,1,2,3,4,5,6,7,8,9,10])\n",
        "\n",
        "# drop the target feature and select the first 49 columns\n",
        "data = data.drop(columns=['percent_of_inpatients_with_covid'])\n",
        "X = data.iloc[: , 0:49]\n",
        "\n",
        "logit=LogisticRegression(multi_class='ovr',solver='liblinear', max_iter=1000)\n",
        "\n",
        "rfecv = RFECV(estimator=logit, step=1, cv=StratifiedKFold(10), scoring='accuracy')\n",
        "rfecv.fit(X, y_discrete)\n",
        "\n",
        "print(f\"Optimal number of features : {rfecv.n_features_}\")\n",
        "print(\"Features rankings:\", rfecv.ranking_)\n"
      ],
      "metadata": {
        "colab": {
          "base_uri": "https://localhost:8080/"
        },
        "id": "h1Fv-cutDPG6",
        "outputId": "e3553c91-2ccd-434f-b30c-708d476f9b30"
      },
      "execution_count": null,
      "outputs": [
        {
          "output_type": "stream",
          "name": "stderr",
          "text": [
            "/usr/local/lib/python3.10/dist-packages/sklearn/model_selection/_split.py:700: UserWarning: The least populated class in y has only 1 members, which is less than n_splits=10.\n",
            "  warnings.warn(\n"
          ]
        },
        {
          "output_type": "stream",
          "name": "stdout",
          "text": [
            "Optimal number of features : 40\n",
            "Features rankings: [ 1  1  1  1  1  1  1  1  2  6  1  7  1  1  1  1  1  1  1  1  1  1  1  1\n",
            "  1  1  1  1  1  1  1  1  1  1  1  1  1  1  1  5  3  4  1  1  9 10  1  1\n",
            "  8]\n"
          ]
        }
      ]
    },
    {
      "cell_type": "markdown",
      "source": [
        "**Optimal feature selection conclusion**: According to the print statements above, 40 out of 49 features are optimal."
      ],
      "metadata": {
        "id": "S3nntR52Pv4W"
      }
    },
    {
      "cell_type": "markdown",
      "source": [
        "\n",
        "\n",
        "---\n",
        "\n"
      ],
      "metadata": {
        "id": "avIlxd5MSRlE"
      }
    },
    {
      "cell_type": "markdown",
      "source": [
        "**Reduce Data Dimension:**<a name=\"section-a5\"></a>\n",
        "\n",
        "Now that we know the optimal number of features is 40 out of 49 features, reduce dimension to n = 40"
      ],
      "metadata": {
        "id": "abXck-X3E86Z"
      }
    },
    {
      "cell_type": "code",
      "source": [
        "print(\"Shape of the original data set\",X.shape)\n",
        "\n",
        "pca = decomposition.PCA(n_components=40)\n",
        "pca.fit(X)\n",
        "X_reduced = pca.transform(X)\n",
        "print(\"Shape of the new data set\",X_reduced.shape)\n",
        "\n",
        "print(X)\n"
      ],
      "metadata": {
        "colab": {
          "base_uri": "https://localhost:8080/"
        },
        "id": "C5HXxCZNFBDq",
        "outputId": "bb615745-698a-462d-e997-36b649e13a52"
      },
      "execution_count": null,
      "outputs": [
        {
          "output_type": "stream",
          "name": "stdout",
          "text": [
            "Shape of the original data set (54, 49)\n",
            "Shape of the new data set (54, 40)\n",
            "    critical_staffing_shortage_today_yes  critical_staffing_shortage_today_no  critical_staffing_shortage_today_not_reported  critical_staffing_shortage_anticipated_within_week_yes  critical_staffing_shortage_anticipated_within_week_no  ...  percent_of_inpatients_with_covid_denominator  inpatient_bed_covid_utilization  inpatient_bed_covid_utilization_coverage  inpatient_bed_covid_utilization_numerator  inpatient_bed_covid_utilization_denominator\n",
            "0                                      1                                    6                                             11                                                  1                                                      15      ...                                         592.0                         0.016993                                      10.0                                       13.0                                        765.0\n",
            "1                                     10                                  102                                            241                                                 37                                                     248      ...                                       24933.0                         0.024654                                     166.0                                      797.0                                      32327.0\n",
            "2                                      3                                   41                                            171                                                  8                                                     129      ...                                       21489.0                         0.018129                                      96.0                                      553.0                                      30503.0\n",
            "3                                     17                                    6                                             39                                                 20                                                      33      ...                                        5702.0                         0.019324                                      44.0                                      148.0                                       7659.0\n",
            "4                                      0                                    0                                            128                                                  6                                                      81      ...                                         107.0                         0.003546                                      11.0                                        1.0                                        282.0\n",
            "..                                   ...                                  ...                                            ...                                                ...                                                     ...      ...                                           ...                              ...                                       ...                                        ...                                          ...\n",
            "49                                     9                                   73                                             52                                                  8                                                      88      ...                                        1073.0                         0.012000                                      20.0                                       21.0                                       1750.0\n",
            "50                                     3                                   21                                            121                                                  2                                                     128      ...                                        2297.0                         0.016740                                      22.0                                       57.0                                       3405.0\n",
            "51                                     0                                   11                                             78                                                  0                                                      60      ...                                        7298.0                         0.018110                                      49.0                                      174.0                                       9608.0\n",
            "52                                     9                                   31                                             53                                                 11                                                      49      ...                                        8036.0                         0.010462                                      57.0                                      125.0                                      11948.0\n",
            "53                                     2                                   50                                            121                                                  2                                                     137      ...                                        7954.0                         0.009653                                      71.0                                      115.0                                      11913.0\n",
            "\n",
            "[54 rows x 49 columns]\n"
          ]
        }
      ]
    },
    {
      "cell_type": "markdown",
      "source": [
        "\n",
        "\n",
        "---\n",
        "\n"
      ],
      "metadata": {
        "id": "O91BRYifG95Q"
      }
    },
    {
      "cell_type": "markdown",
      "source": [
        "**Apply all regression methods for both original features and reduced features, and compare the result**"
      ],
      "metadata": {
        "id": "4J6i59M0HQxR"
      }
    },
    {
      "cell_type": "markdown",
      "source": [
        "**Decision Tree (regression)**<a name=\"section-a6\"></a>\n",
        "\n",
        "Apply decision tree (regerssion) on both the original X and reduced X and compare error rates"
      ],
      "metadata": {
        "id": "1_OND6aW-SIq"
      }
    },
    {
      "cell_type": "code",
      "source": [
        "from sklearn import tree\n",
        "\n",
        "X_train, X_test, y_train, y_test = train_test_split(X, y, random_state=0)\n",
        "X_train2, X_test2, y_train2, y_test2 = train_test_split(X_reduced, y, random_state=5)\n",
        "\n",
        "clf = tree.DecisionTreeRegressor()\n",
        "\n",
        "print(\"X original\")\n",
        "print(\"-------------------\")\n",
        "clf.fit(X_train, y_train)\n",
        "y_pred = clf.predict(X_test)\n",
        "print(\"y prediction: \", y_pred)\n",
        "print(\"y actual: \", list(y_test))\n",
        "print(\"MAE: \", metrics.mean_absolute_error(y_test, y_pred))\n",
        "print(\"MSE: \", metrics.mean_squared_error(y_test, y_pred))\n",
        "print(\"RMSE: \", np.sqrt(metrics.mean_squared_error(y_test, y_pred)))\n",
        "\n",
        "print(\"\\nX reduced\")\n",
        "print(\"-------------------\")\n",
        "clf.fit(X_train2, y_train2)\n",
        "y_pred2 = clf.predict(X_test2)\n",
        "print(\"y prediction: \", y_pred2)\n",
        "print(\"y actual: \", list(y_test2))\n",
        "print(\"X_reduced MAE: \", metrics.mean_absolute_error(y_test2, y_pred2))\n",
        "print(\"X_reduced MSE: \", metrics.mean_squared_error(y_test2, y_pred2))\n",
        "print(\"X_reduced RMSE: \", np.sqrt(metrics.mean_squared_error(y_test2, y_pred2)))"
      ],
      "metadata": {
        "colab": {
          "base_uri": "https://localhost:8080/"
        },
        "id": "j2ctaOBp-Slc",
        "outputId": "ede59f0e-2317-42a9-87d1-a1634928680d"
      },
      "execution_count": null,
      "outputs": [
        {
          "output_type": "stream",
          "name": "stdout",
          "text": [
            "\n",
            "X original\n",
            "-------------------\n",
            "y prediction:  [1.4046823 1.8046358 0.6547836 0.        0.8207934 3.1965668 1.2970169\n",
            " 0.        0.6036217 3.1350196 0.8207934 0.6036217 0.5802708 2.1661932]\n",
            "y actual:  [1.4458134, 1.7132505, 0.9060023, 0.4056795, 0.8974359, 2.5734097, 1.0485197, 0.27777779999999996, 0.650524, 4.0931546, 0.9345794, 0.9225092, 0.7972857999999999, 2.1671827]\n",
            "MAE:  0.2622288928571429\n",
            "MSE:  0.13234253041559793\n",
            "RMSE:  0.3637891290508801\n",
            "\n",
            "X_reduced\n",
            "-------------------\n",
            "y prediction:  [0.78125   3.1350196 2.1959459 2.1959459 0.280112  1.2263158 4.1076115\n",
            " 1.2263158 3.1845799 0.78125   9.9337748 1.3842746 1.7132505 1.2263158]\n",
            "y actual:  [0.0, 0.8207934, 1.0282776, 0.8849558000000001, 0.4056795, 2.3842149, 1.4458134, 1.1491301, 2.6527649, 1.5594542, 2.5734097, 2.5955804999999996, 1.2970169, 0.650524]\n",
            "X_reduced MAE:  1.4621643285714285\n",
            "X_reduced MSE:  5.323658215370439\n",
            "X_reduced RMSE:  2.3073054014088465\n"
          ]
        }
      ]
    },
    {
      "cell_type": "markdown",
      "source": [
        "**Decision Tree Conclusion**: X original (MSE: 0.1323) performs better than X reduced (MSE: 5.3237) for decision tree\n",
        "\n"
      ],
      "metadata": {
        "id": "eOO7VYTsACKm"
      }
    },
    {
      "cell_type": "markdown",
      "source": [
        "\n",
        "\n",
        "---\n",
        "\n"
      ],
      "metadata": {
        "id": "owSG93WeG8XH"
      }
    },
    {
      "cell_type": "markdown",
      "source": [
        "**Linear Regression**<a name=\"section-a7\"></a>\n",
        "\n",
        "Apply linear regerssion on both the original X and reduced X and compare error rates"
      ],
      "metadata": {
        "id": "8HeG8JILB1nh"
      }
    },
    {
      "cell_type": "code",
      "source": [
        "from sklearn.linear_model import LinearRegression\n",
        "\n",
        "regr = LinearRegression()\n",
        "\n",
        "X_train, X_test, y_train, y_test = train_test_split(X, y, random_state=54)\n",
        "X_train2, X_test2, y_train2, y_test2 = train_test_split(X_reduced, y, random_state=29)\n",
        "\n",
        "#print(X_train)\n",
        "#X_train = X_train.values.reshape(-1, 1)\n",
        "\n",
        "print(\"X original\")\n",
        "print(\"-------------------\")\n",
        "regr.fit(X_train, y_train)\n",
        "#print('Coefficients: \\n', regr.coef_)\n",
        "#print('Intercept: \\n', regr.intercept_)\n",
        "y_pred = regr.predict(X_test)\n",
        "print(\"y prediction: \", y_pred)\n",
        "print(\"y actual:\", list(y_test))\n",
        "print(\"MAE: \", metrics.mean_absolute_error(y_test, y_pred))\n",
        "print(\"MSE: \", metrics.mean_squared_error(y_test, y_pred))\n",
        "print(\"RMSE: \", np.sqrt(metrics.mean_squared_error(y_test, y_pred)))\n",
        "\n",
        "print(\"\\nX reduced\")\n",
        "print(\"-------------------\")\n",
        "regr.fit(X_train2, y_train2)\n",
        "#print('Coefficients: \\n', regr.coef_)\n",
        "#print('Intercept: \\n', regr.intercept_)\n",
        "y_pred2 = regr.predict(X_test2)\n",
        "print(\"y prediction: \", y_pred2)\n",
        "print(\"y actual:\", list(y_test2))\n",
        "print(\"X_reduced MAE: \", metrics.mean_absolute_error(y_test2, y_pred2))\n",
        "print(\"X_reduced MSE: \", metrics.mean_squared_error(y_test2, y_pred2))\n",
        "print(\"X_reduced RMSE: \", np.sqrt(metrics.mean_squared_error(y_test2, y_pred2)))"
      ],
      "metadata": {
        "colab": {
          "base_uri": "https://localhost:8080/"
        },
        "id": "IKq9Xb9kCYRy",
        "outputId": "46ff86f3-b8c0-4e84-ab14-2b90ac2c642a"
      },
      "execution_count": null,
      "outputs": [
        {
          "output_type": "stream",
          "name": "stdout",
          "text": [
            "X original\n",
            "-------------------\n",
            "y prediction:  [ 1.47977677 -5.11671021  0.58461891  1.69356697  3.79253299  0.88606438\n",
            "  0.82722214  1.57186861  1.13886408  0.48451727 -0.09902136  3.40747696\n",
            "  0.70959366 -0.82098398]\n",
            "y actual [1.4046823, 2.3842149, 1.4458134, 3.1845799, 0.8207934, 0.27777779999999996, 0.9225092, 1.5238095, 1.0485197, 0.8849558000000001, 0.0, 2.4814976, 0.6036217, 0.78125]\n",
            "MAE:  1.2053992078463491\n",
            "MSE:  5.147219292808846\n",
            "RMSE:  2.268748397863643\n",
            "\n",
            "X reduced\n",
            "-------------------\n",
            "y prediction:  [2.53608512e+00 2.22671295e+00 9.25461383e+07 2.00594940e+00\n",
            " 1.03273241e+00 1.28518780e+00 3.66085730e+00 8.35181165e-01\n",
            " 9.64648742e-01 5.25546729e-01 1.36883373e+00 4.88298025e+00\n",
            " 2.25242901e+00 2.14032262e+00]\n",
            "y actual [2.3424879, 1.2263158, 0.0, 0.650524, 1.4764008, 0.0, 2.4671735, 0.9060023, 1.0282776, 0.78125, 1.3096098, 3.1965668000000003, 1.0638298, 3.1845799]\n",
            "X_reduced MAE:  6610439.149971054\n",
            "X_reduced MSE:  611770550475122.1\n",
            "X_reduced RMSE:  24733995.845296048\n"
          ]
        }
      ]
    },
    {
      "cell_type": "markdown",
      "source": [
        "**Linear Regression Conclusion**: X original (MSE: 5.14) performs much better than X reduced (MSE: very large) for linear regression as X original MSE error rate is much lower. Linear regression in general perform worst than decision tree"
      ],
      "metadata": {
        "id": "AUHnKoZgCsm0"
      }
    },
    {
      "cell_type": "markdown",
      "source": [
        "\n",
        "\n",
        "---\n",
        "\n"
      ],
      "metadata": {
        "id": "XiVAR7isG7L3"
      }
    },
    {
      "cell_type": "markdown",
      "source": [
        "**KNN (regression)**<a name=\"section-a8\"></a>\n",
        "\n",
        "Apply KNN on both the original X and reduced X and compare error rates. Find error rate for K between 1 to 20 to see which one performs the best"
      ],
      "metadata": {
        "id": "F8dBnXodDL5z"
      }
    },
    {
      "cell_type": "code",
      "source": [
        "from sklearn import neighbors\n",
        "\n",
        "X_train, X_test, y_train, y_test = train_test_split(X, y, random_state=8)\n",
        "X_train2, X_test2, y_train2, y_test2 = train_test_split(X_reduced, y, random_state=9)\n",
        "\n",
        "#rmse_val = [] #to store rmse values for different k\n",
        "print(\"X original\")\n",
        "print(\"-------------------\")\n",
        "for K in range(20):\n",
        "    K = K+1\n",
        "    model = neighbors.KNeighborsRegressor(n_neighbors = K)\n",
        "\n",
        "    model.fit(X_train, y_train)  #fit the model\n",
        "    y_pred=model.predict(X_test) #make prediction on test set\n",
        "    error = metrics.mean_squared_error(y_test, y_pred) #calculate rmse\n",
        "    #rmse_val.append(error) #store rmse values\n",
        "    print('MSE value for k= ' , K , 'is:', error)\n",
        "\n",
        "print(\"\\nX reduced\")\n",
        "print(\"-------------------\")\n",
        "for K in range(20):\n",
        "    K = K+1\n",
        "    model = neighbors.KNeighborsRegressor(n_neighbors = K)\n",
        "    model.fit(X_train2, y_train2)  #fit the model\n",
        "    y_pred2=model.predict(X_test2) #make prediction on test set\n",
        "    error = metrics.mean_squared_error(y_test2, y_pred2) #calculate rmse\n",
        "    #rmse_val.append(error) #store rmse values\n",
        "    print('X_reduced MSE value for k= ' , K , 'is:', error)\n"
      ],
      "metadata": {
        "colab": {
          "base_uri": "https://localhost:8080/"
        },
        "id": "dTMcU3ggIkQh",
        "outputId": "7b0aa156-23d5-4728-d8e8-7934187f5251"
      },
      "execution_count": null,
      "outputs": [
        {
          "output_type": "stream",
          "name": "stdout",
          "text": [
            "X original\n",
            "-------------------\n",
            "MSE value for k=  1 is: 7.887403794204283\n",
            "MSE value for k=  2 is: 6.142704717334602\n",
            "MSE value for k=  3 is: 5.726131413014052\n",
            "MSE value for k=  4 is: 5.729782561528443\n",
            "MSE value for k=  5 is: 5.686724674366024\n",
            "MSE value for k=  6 is: 5.545855019724544\n",
            "MSE value for k=  7 is: 5.637963710662381\n",
            "MSE value for k=  8 is: 5.604338330176371\n",
            "MSE value for k=  9 is: 5.701514773253135\n",
            "MSE value for k=  10 is: 5.602002482738833\n",
            "MSE value for k=  11 is: 5.753047724203708\n",
            "MSE value for k=  12 is: 5.823654003833712\n",
            "MSE value for k=  13 is: 5.965731335588771\n",
            "MSE value for k=  14 is: 6.11642768424984\n",
            "MSE value for k=  15 is: 6.187884605127481\n",
            "MSE value for k=  16 is: 6.122423203025634\n",
            "MSE value for k=  17 is: 6.0708579478704925\n",
            "MSE value for k=  18 is: 6.058121843537757\n",
            "MSE value for k=  19 is: 6.117670317831227\n",
            "MSE value for k=  20 is: 6.20081954153935\n",
            "\n",
            "X reduced\n",
            "-------------------\n",
            "X_reduced MSE value for k=  1 is: 1.8856960446440336\n",
            "X_reduced MSE value for k=  2 is: 1.4665693445178156\n",
            "X_reduced MSE value for k=  3 is: 1.2699453677190884\n",
            "X_reduced MSE value for k=  4 is: 1.1442822397865413\n",
            "X_reduced MSE value for k=  5 is: 1.0970414108458357\n",
            "X_reduced MSE value for k=  6 is: 1.1312609200680268\n",
            "X_reduced MSE value for k=  7 is: 1.4118408323757197\n",
            "X_reduced MSE value for k=  8 is: 1.394379793281777\n",
            "X_reduced MSE value for k=  9 is: 1.449337889800653\n",
            "X_reduced MSE value for k=  10 is: 1.3287677483902958\n",
            "X_reduced MSE value for k=  11 is: 1.3519340159944566\n",
            "X_reduced MSE value for k=  12 is: 1.1800182971793556\n",
            "X_reduced MSE value for k=  13 is: 0.9296640235711304\n",
            "X_reduced MSE value for k=  14 is: 0.9080549131317665\n",
            "X_reduced MSE value for k=  15 is: 1.0093089720379125\n",
            "X_reduced MSE value for k=  16 is: 1.0224256074713078\n",
            "X_reduced MSE value for k=  17 is: 0.9187521310084316\n",
            "X_reduced MSE value for k=  18 is: 0.9063203734501801\n",
            "X_reduced MSE value for k=  19 is: 0.9294522107206559\n",
            "X_reduced MSE value for k=  20 is: 0.9768232692721852\n"
          ]
        }
      ]
    },
    {
      "cell_type": "markdown",
      "source": [
        "**KNN Conclusion**: X reduced performs better than X original in general for KNN as the error rate for X reduced is lower.\n",
        "\n",
        "For X original: K = 6 is the best option (MSE: 5.55)\n",
        "\n",
        "For X rediced: K = 18 is the best option (MSE: 0.91)\n",
        "\n",
        "KNN performed better than linear regression but worst than decision tree"
      ],
      "metadata": {
        "id": "HgyTiUu-D0QA"
      }
    },
    {
      "cell_type": "markdown",
      "source": [
        "\n",
        "\n",
        "---\n",
        "\n"
      ],
      "metadata": {
        "id": "EwDjrQ2NG4q-"
      }
    },
    {
      "cell_type": "markdown",
      "source": [
        "**Random Forest (regression)**<a name=\"section-a9\"></a>\n",
        "\n",
        "Apply Random Forest on both the original X and reduced X and compare error rates."
      ],
      "metadata": {
        "id": "ajQOh5LEGHkn"
      }
    },
    {
      "cell_type": "code",
      "source": [
        "from sklearn.ensemble import RandomForestRegressor\n",
        "\n",
        "X_train, X_test, y_train, y_test = train_test_split(X, y, random_state=11)\n",
        "X_train2, X_test2, y_train2, y_test2 = train_test_split(X_reduced, y, random_state=12)\n",
        "\n",
        "print(\"X original\")\n",
        "print(\"-------------------\")\n",
        "rfc = RandomForestRegressor(n_estimators=600)\n",
        "rfc.fit(X_train,y_train)\n",
        "y_pred = rfc.predict(X_test)\n",
        "# print MAE. MSE, and RMSE\n",
        "print(\"y prediction: \", y_pred)\n",
        "print(\"y actual: \", list(y_test))\n",
        "print(\"MAE: \", metrics.mean_absolute_error(y_test, y_pred))\n",
        "print(\"MSE: \", metrics.mean_squared_error(y_test, y_pred))\n",
        "print(\"RMSE: \", np.sqrt(metrics.mean_squared_error(y_test, y_pred)))\n",
        "\n",
        "print(\"\\nX reduced\")\n",
        "print(\"-------------------\")\n",
        "rfc = RandomForestRegressor(n_estimators=600)\n",
        "rfc.fit(X_train2,y_train2)\n",
        "y_pred2 = rfc.predict(X_test2)\n",
        "# print MAE. MSE, and RMSE for X_reduced\n",
        "print(\"y prediction: \", y_pred)\n",
        "print(\"y actual: \", list(y_test))\n",
        "print(\"X_reduced MAE: \", metrics.mean_absolute_error(y_test2, y_pred2))\n",
        "print(\"X_reduced MSE: \", metrics.mean_squared_error(y_test2, y_pred2))\n",
        "print(\"X_reduced RMSE: \", np.sqrt(metrics.mean_squared_error(y_test2, y_pred2)))"
      ],
      "metadata": {
        "colab": {
          "base_uri": "https://localhost:8080/"
        },
        "id": "pHIVNQEsGHvg",
        "outputId": "44247a33-19e4-4df5-fbf8-c1bc9bd3c01b"
      },
      "execution_count": null,
      "outputs": [
        {
          "output_type": "stream",
          "name": "stdout",
          "text": [
            "X original\n",
            "-------------------\n",
            "y prediction:  [0.37976312 1.52120928 1.30881701 1.52940619 2.30780549 2.56373217\n",
            " 1.10690158 3.2641008  0.5337374  0.08533147 2.55634727 0.92396997\n",
            " 1.50797343 1.42403152]\n",
            "y actual:  [0.28011199999999997, 1.8046357999999998, 0.0, 1.9571295, 1.4764008, 2.1671827, 1.0282776, 2.5734097, 0.27777779999999996, 0.0, 2.1661932, 0.8207934, 0.8849558000000001, 1.5555002]\n",
            "MAE:  0.40757108673809495\n",
            "MSE:  0.2827877604933337\n",
            "RMSE:  0.5317779240372185\n",
            "\n",
            "X reduced\n",
            "-------------------\n",
            "y prediction:  [0.37976312 1.52120928 1.30881701 1.52940619 2.30780549 2.56373217\n",
            " 1.10690158 3.2641008  0.5337374  0.08533147 2.55634727 0.92396997\n",
            " 1.50797343 1.42403152]\n",
            "y actual:  [0.28011199999999997, 1.8046357999999998, 0.0, 1.9571295, 1.4764008, 2.1671827, 1.0282776, 2.5734097, 0.27777779999999996, 0.0, 2.1661932, 0.8207934, 0.8849558000000001, 1.5555002]\n",
            "X_reduced MAE:  1.22535963313095\n",
            "X_reduced MSE:  2.683669514450389\n",
            "X_reduced RMSE:  1.6381909273495532\n"
          ]
        }
      ]
    },
    {
      "cell_type": "markdown",
      "source": [
        "**Random forest Conclusion**: X original (MSE: 0.2828) performs better than X reduced (MSE: 2.6837) for random forest."
      ],
      "metadata": {
        "id": "aEZRUz78HD57"
      }
    },
    {
      "cell_type": "markdown",
      "source": [
        "\n",
        "\n",
        "---\n",
        "\n"
      ],
      "metadata": {
        "id": "E6048ehuSbI5"
      }
    },
    {
      "cell_type": "markdown",
      "source": [
        "**All regression methods conclusion:** <a name=\"section-a10\"></a>\n",
        "\n",
        "Regression algorithms for the selected data ranked from best to worst according to the conclusions above:\n",
        "\n",
        "*   **X original:**\n",
        "Decision Tree (MSE: 0.1323) > Random Forest (MSE: 0.2828) > Linear Regression (MSE: 5.14) > KNN (MSE: 5.55)\n",
        "*   **X reduced:**\n",
        "KNN (MSE: 0.91) > Random Forest (MSE: 2.6837) > Decision Tree (MSE: 5.3237) > Linear Regression (MSE: very large)\n",
        "\n",
        "**Findings:**\n",
        "For X original, Decision Tree and Random Forest seems to perform very well while Linear Regression and KNN performed poorly. This makes sense as there are some outliers in the data (ex: some state has abnormally high staff shortage in hospital) and Decision Tree and Random Forest are not sensetive to outliers."
      ],
      "metadata": {
        "id": "ofbueK5GMoU6"
      }
    },
    {
      "cell_type": "markdown",
      "source": [
        "\n",
        "\n",
        "---\n",
        "\n"
      ],
      "metadata": {
        "id": "B4O736d7Scyi"
      }
    },
    {
      "cell_type": "markdown",
      "source": [],
      "metadata": {
        "id": "6pIGTDPwPJEz"
      }
    },
    {
      "cell_type": "markdown",
      "source": [
        "# **Classification**"
      ],
      "metadata": {
        "id": "xsWBLgoJe-bO"
      }
    },
    {
      "cell_type": "markdown",
      "source": [
        "<a name=\"section-b1\"></a>**Problem: Determine the best algorithm that accurately predict if an insurance claim for an individual is santioned or not  (based on features such as insurance agency name, agency net sales, insurance plan of the individual etc).**"
      ],
      "metadata": {
        "id": "c3Pb5fS2C44u"
      }
    },
    {
      "cell_type": "markdown",
      "source": [
        "<a name=\"section-b2\"></a>**Check data type and visualize data**"
      ],
      "metadata": {
        "id": "laT-7bLVEg_Q"
      }
    },
    {
      "cell_type": "code",
      "source": [
        "data2 = pd.read_csv('/insurance_dataset.csv')\n",
        "\n",
        "agency = list(data2[\"Agency\"].iloc[:100])\n",
        "# fill NaN fields with 0\n",
        "data2 = data2.fillna(0)\n",
        "data2 = data2.drop(columns=['Gender'])\n",
        "\n",
        "\n",
        "print(data2.info())\n",
        "print(data2.describe())\n",
        "print(data2)"
      ],
      "metadata": {
        "colab": {
          "base_uri": "https://localhost:8080/"
        },
        "id": "wFM7kEY_Ehrx",
        "outputId": "678793fd-9eca-4d1f-951e-4898041703ed"
      },
      "execution_count": 5,
      "outputs": [
        {
          "output_type": "stream",
          "name": "stdout",
          "text": [
            "<class 'pandas.core.frame.DataFrame'>\n",
            "RangeIndex: 10537 entries, 0 to 10536\n",
            "Data columns (total 11 columns):\n",
            " #   Column                Non-Null Count  Dtype  \n",
            "---  ------                --------------  -----  \n",
            " 0   ID                    10537 non-null  int64  \n",
            " 1   Age                   10537 non-null  int64  \n",
            " 2   Agency                10537 non-null  object \n",
            " 3   Agency Type           10537 non-null  object \n",
            " 4   Commision (in value)  10537 non-null  float64\n",
            " 5   Destination           10537 non-null  object \n",
            " 6   Distribution Channel  10537 non-null  object \n",
            " 7   Duration              10537 non-null  int64  \n",
            " 8   Net Sales             10537 non-null  float64\n",
            " 9   Product Name          10537 non-null  object \n",
            " 10  Claim                 10537 non-null  int64  \n",
            "dtypes: float64(2), int64(4), object(5)\n",
            "memory usage: 905.6+ KB\n",
            "None\n",
            "                 ID           Age  Commision (in value)      Duration     Net Sales         Claim\n",
            "count  10537.000000  10537.000000          10537.000000  10537.000000  10537.000000  10537.000000\n",
            "mean   32819.611654     39.589447             12.793249     61.090158     51.391107      0.199013\n",
            "std    18158.084102     13.962649             23.777388    105.559453     64.475120      0.399277\n",
            "min        7.000000      0.000000              0.000000     -1.000000   -389.000000      0.000000\n",
            "25%    17367.000000     33.000000              0.000000     10.000000     20.000000      0.000000\n",
            "50%    33395.000000     36.000000              0.270000     24.000000     29.700000      0.000000\n",
            "75%    48784.000000     43.000000             13.630000     60.000000     59.400000      0.000000\n",
            "max    63317.000000    118.000000            210.210000   4844.000000    599.000000      1.000000\n",
            "          ID  Age Agency    Agency Type  Commision (in value)  ... Distribution Channel Duration  Net Sales                     Product Name Claim\n",
            "0      45341   28    C2B       Airlines                 28.13  ...               Online       34      112.5                      Silver Plan     1\n",
            "1      12958   37    JZI       Airlines                 12.95  ...               Online       53       37.0                       Basic Plan     0\n",
            "2      18233   27    EPX  Travel Agency                  0.00  ...               Online       28       13.0                Cancellation Plan     0\n",
            "3      31742   36    EPX  Travel Agency                  0.00  ...               Online        1       34.0                Cancellation Plan     0\n",
            "4      14381   26    CWT  Travel Agency                 23.76  ...               Online       33       39.6  Rental Vehicle Excess Insurance     0\n",
            "...      ...  ...    ...            ...                   ...  ...                  ...      ...        ...                              ...   ...\n",
            "10532   9441   36    EPX  Travel Agency                  0.00  ...               Online       22       25.0         1 way Comprehensive Plan     0\n",
            "10533  46089   58    C2B       Airlines                 54.00  ...               Online      368      216.0               Annual Silver Plan     1\n",
            "10534  30389   36    EPX  Travel Agency                  0.00  ...               Online       15       15.0                Cancellation Plan     0\n",
            "10535   1932   34    JZI       Airlines                  7.70  ...               Online       25       22.0                       Basic Plan     0\n",
            "10536    691   28    EPX  Travel Agency                  0.00  ...               Online       90       10.0                Cancellation Plan     0\n",
            "\n",
            "[10537 rows x 11 columns]\n"
          ]
        }
      ]
    },
    {
      "cell_type": "markdown",
      "source": [
        "\n",
        "\n",
        "---\n",
        "\n"
      ],
      "metadata": {
        "id": "KV5NDDy8RS0W"
      }
    },
    {
      "cell_type": "markdown",
      "source": [
        "<a name=\"section-b3\"></a>**Data Exploratory using Clustering**:\n",
        "\n",
        "After data visualization, do some data exloration using Hierarchical Clustering and agency name as labels and see if we can spot any patterns.\n",
        "\n",
        "Hierarchical Clustering only work with numeric data, so apply LabelEncoder() to transform categorical data to numeric."
      ],
      "metadata": {
        "id": "S3QcP7fIEpLM"
      }
    },
    {
      "cell_type": "code",
      "source": [
        "from sklearn import preprocessing\n",
        "\n",
        "label_encoder = preprocessing.LabelEncoder()\n",
        "\n",
        "data2['Agency'] = label_encoder.fit_transform(data2['Agency'])\n",
        "data2['Agency Type'] = label_encoder.fit_transform(data2['Agency Type'])\n",
        "data2['Destination'] = label_encoder.fit_transform(data2['Destination'])\n",
        "data2['Distribution Channel'] = label_encoder.fit_transform(data2['Distribution Channel'])\n",
        "data2['Product Name'] = label_encoder.fit_transform(data2['Product Name'])\n",
        "\n",
        "\n",
        "\n",
        "print(data2)\n",
        "mergings = linkage(data2.head(100), method='complete')\n",
        "plt.figure(figsize=(20, 10))\n",
        "\n",
        "dendrogram(mergings,\n",
        "           p = 5,\n",
        "           truncate_mode = 'level',\n",
        "           labels = agency,\n",
        "leaf_rotation=90,\n",
        "leaf_font_size=9,\n",
        ")\n",
        "\n",
        "plt.show()\n",
        "\n"
      ],
      "metadata": {
        "colab": {
          "base_uri": "https://localhost:8080/",
          "height": 791
        },
        "id": "YrLnwwK1e-Ie",
        "outputId": "607c8e18-0826-44ff-92c2-d3294e692960"
      },
      "execution_count": 11,
      "outputs": [
        {
          "output_type": "stream",
          "name": "stdout",
          "text": [
            "          ID  Age  Agency  Agency Type  Commision (in value)  ...  Distribution Channel  Duration  Net Sales  Product Name  Claim\n",
            "0      45341   28       2            0                 28.13  ...                     1        34      112.5            17      1\n",
            "1      12958   37       9            0                 12.95  ...                     1        53       37.0             8      0\n",
            "2      18233   27       7            1                  0.00  ...                     1        28       13.0            10      0\n",
            "3      31742   36       7            1                  0.00  ...                     1         1       34.0            10      0\n",
            "4      14381   26       6            1                 23.76  ...                     1        33       39.6            16      0\n",
            "...      ...  ...     ...          ...                   ...  ...                   ...       ...        ...           ...    ...\n",
            "10532   9441   36       7            1                  0.00  ...                     1        22       25.0             0      0\n",
            "10533  46089   58       2            0                 54.00  ...                     1       368      216.0             4      1\n",
            "10534  30389   36       7            1                  0.00  ...                     1        15       15.0            10      0\n",
            "10535   1932   34       9            0                  7.70  ...                     1        25       22.0             8      0\n",
            "10536    691   28       7            1                  0.00  ...                     1        90       10.0            10      0\n",
            "\n",
            "[10537 rows x 11 columns]\n"
          ]
        },
        {
          "output_type": "display_data",
          "data": {
            "text/plain": [
              "<Figure size 2000x1000 with 1 Axes>"
            ],
            "image/png": "[encoded data removed]"
          },
          "metadata": {}
        }
      ]
    },
    {
      "cell_type": "markdown",
      "source": [
        "**Conclusion from clustering:** claim submission for agency C2B is similar to other C2B submissions(which make sense). On top of that, it seems data for C2B claim submission is also similar to EPX submission as they are grouped closely in several instance (small distance between them compare to other agencies)"
      ],
      "metadata": {
        "id": "CJuM4rg3Iwrc"
      }
    },
    {
      "cell_type": "markdown",
      "source": [
        "\n",
        "\n",
        "---\n",
        "\n"
      ],
      "metadata": {
        "id": "Q8QdGX6JP50i"
      }
    },
    {
      "cell_type": "markdown",
      "source": [
        "<a name=\"section-b4\"></a>**Select Optimal Features**\n",
        "\n",
        "Given we have 10 features, and given the target variable is whether the claim submissions are sanctioned or not (1 = sanctioned, 0 = not sanctioned), we want to find number of optimal features out of all 10 features."
      ],
      "metadata": {
        "id": "N5lpRmmnzZnK"
      }
    },
    {
      "cell_type": "code",
      "source": [
        "X = data2.drop(columns=['Claim'])\n",
        "y = data2['Claim']\n",
        "\n",
        "logit=LogisticRegression(multi_class='ovr',solver='liblinear', max_iter=1000)\n",
        "\n",
        "rfecv = RFECV(estimator=logit, step=1, cv=StratifiedKFold(10), scoring='accuracy')\n",
        "rfecv.fit(X, y)\n",
        "\n",
        "print(f\"Optimal number of features : {rfecv.n_features_}\")\n",
        "print(\"listing column names and their ranking\")\n",
        "print(list(X.columns.values))\n",
        "print(rfecv.ranking_)\n",
        "#print(X.columns[0], X.columns[1],X.columns[30],X.columns[33], X.columns[37])\n"
      ],
      "metadata": {
        "colab": {
          "base_uri": "https://localhost:8080/"
        },
        "id": "watuB0I9zZzq",
        "outputId": "36a5b6cd-8b1b-4e43-95e5-da6263b71fa7"
      },
      "execution_count": 12,
      "outputs": [
        {
          "output_type": "stream",
          "name": "stdout",
          "text": [
            "Optimal number of features : 9\n",
            "listing column names and their ranking\n",
            "['ID', 'Age', 'Agency', 'Agency Type', 'Commision (in value)', 'Destination', 'Distribution Channel', 'Duration', 'Net Sales', 'Product Name']\n",
            "[2 1 1 1 1 1 1 1 1 1]\n"
          ]
        }
      ]
    },
    {
      "cell_type": "markdown",
      "source": [
        "**Optimal feature selection conclusion**: According to the print statements above, besides feature \"ID\", every other feature is optimal"
      ],
      "metadata": {
        "id": "hKKV0j52PgGP"
      }
    },
    {
      "cell_type": "markdown",
      "source": [
        "\n",
        "\n",
        "---\n",
        "\n"
      ],
      "metadata": {
        "id": "01a3sLWMRP8N"
      }
    },
    {
      "cell_type": "markdown",
      "source": [
        "<a name=\"section-b5\"></a>**Reduce Data Dimension:**\n",
        "\n",
        "Now that we know the optimal number of features is 9 out of 10 features, reduce dimension to n = 9"
      ],
      "metadata": {
        "id": "JQXLgLcc3OLx"
      }
    },
    {
      "cell_type": "code",
      "source": [
        "print(\"Shape of the original data set\",X.shape)\n",
        "\n",
        "pca = decomposition.PCA(n_components=9)\n",
        "pca.fit(X)\n",
        "X_reduced = pca.transform(X)\n",
        "print(\"Shape of the new data set\",X_reduced.shape)\n",
        "\n",
        "print(X_reduced)\n"
      ],
      "metadata": {
        "colab": {
          "base_uri": "https://localhost:8080/"
        },
        "id": "9QYYCPpJ3Ofx",
        "outputId": "c2008e78-54a5-4846-b0eb-72d56aa4d9ff"
      },
      "execution_count": 14,
      "outputs": [
        {
          "output_type": "stream",
          "name": "stdout",
          "text": [
            "Shape of the original data set (10537, 10)\n",
            "Shape of the new data set (10537, 9)\n",
            "[[-1.25214041e+04  6.94903888e-01 -6.62689603e+01 ...  8.65136249e+00\n",
            "  -2.66931134e+00 -1.58979702e-01]\n",
            " [ 1.98616154e+04 -5.80722375e+00  4.31938512e+00 ... -1.47772662e+00\n",
            "   2.60146863e+00 -9.16397072e-01]\n",
            " [ 1.45866296e+04 -4.14461552e+01  1.69472912e+01 ...  2.11669228e+00\n",
            "   1.23763606e+00  2.60567442e-01]\n",
            " ...\n",
            " [ 2.43063432e+03 -5.71109810e+01  1.20448400e+01 ...  1.04409617e+00\n",
            "   8.91024028e-01  2.87956733e-01]\n",
            " [ 3.08876277e+04 -3.43787486e+01  3.85013609e+00 ... -1.07036743e+00\n",
            "   1.96276368e+00 -1.00272027e+00]\n",
            " [ 3.21286183e+04  1.70789795e+01  4.60131416e+01 ...  2.91315944e+00\n",
            "  -4.55087652e-01  1.51465425e-01]]\n"
          ]
        }
      ]
    },
    {
      "cell_type": "markdown",
      "source": [
        "\n",
        "\n",
        "---\n",
        "\n"
      ],
      "metadata": {
        "id": "Ns0M6ksKR5PR"
      }
    },
    {
      "cell_type": "markdown",
      "source": [
        "**Apply all classification methods for both original features and reduced features, and compare the result**"
      ],
      "metadata": {
        "id": "sECjv-ZKR6Kh"
      }
    },
    {
      "cell_type": "markdown",
      "source": [
        "<a name=\"section-b6\"></a>**Decision Tree (classification)**\n",
        "\n",
        "Apply decision tree (classification) on both the original X and reduced X and compare error rates"
      ],
      "metadata": {
        "id": "jwtvdNcY3N8J"
      }
    },
    {
      "cell_type": "code",
      "source": [
        "from sklearn import tree\n",
        "\n",
        "X_train, X_test, y_train, y_test = train_test_split(X, y, random_state=0)\n",
        "X_train2, X_test2, y_train2, y_test2 = train_test_split(X_reduced, y, random_state=5)\n",
        "\n",
        "clf = tree.DecisionTreeClassifier()\n",
        "print(\"X original\")\n",
        "print(\"-------------------\")\n",
        "clf.fit(X_train, y_train)\n",
        "y_pred = clf.predict(X_test)\n",
        "print(\"Accuracy score: \", metrics.accuracy_score(y_test, y_pred))\n",
        "print(\"Recall/Sensitivity: \", metrics.recall_score(y_test, y_pred))\n",
        "print(\"Precision: \", metrics.precision_score(y_test, y_pred))\n",
        "\n",
        "print(\"\\nX reduced\")\n",
        "print(\"-------------------\")\n",
        "clf.fit(X_train2, y_train2)\n",
        "y_pred2 = clf.predict(X_test2)\n",
        "print(\"X_reduced Accuracy score: \", metrics.accuracy_score(y_test2, y_pred2))\n",
        "print(\"X_reduced Recall/Sensitivity: \", metrics.recall_score(y_test2, y_pred2))\n",
        "print(\"X_reduced Precision: \", metrics.precision_score(y_test2, y_pred2))"
      ],
      "metadata": {
        "colab": {
          "base_uri": "https://localhost:8080/"
        },
        "id": "J2E74KC_1knQ",
        "outputId": "246c408d-d701-4340-c588-cc9f0e318d12"
      },
      "execution_count": 15,
      "outputs": [
        {
          "output_type": "stream",
          "name": "stdout",
          "text": [
            "X original\n",
            "-------------------\n",
            "Accuracy score:  0.9009487666034156\n",
            "Recall/Sensitivity:  0.8693181818181818\n",
            "Precision:  0.7050691244239631\n",
            "\n",
            "X reduced\n",
            "-------------------\n",
            "X_reduced Accuracy score:  0.8941176470588236\n",
            "X_reduced Recall/Sensitivity:  0.8662900188323918\n",
            "X_reduced Precision:  0.688622754491018\n"
          ]
        }
      ]
    },
    {
      "cell_type": "markdown",
      "source": [
        "**Decision Tree Conclusion**: X original (Accuracy: 0.9039) performs sightly better than X reduced (Accuracy: 0.8934) for decision tree but the difference is not significant.\n"
      ],
      "metadata": {
        "id": "g0YW59bPtV9V"
      }
    },
    {
      "cell_type": "markdown",
      "source": [
        "\n",
        "\n",
        "---\n",
        "\n"
      ],
      "metadata": {
        "id": "CLnTspMJ1wLT"
      }
    },
    {
      "cell_type": "markdown",
      "source": [
        "<a name=\"section-b7\"></a>**KNN (classification)**\n",
        "\n",
        "Apply KNN on both the original X and reduced X and compare error rates. Find error rate for K between 1 to 20 to see which one performs the best"
      ],
      "metadata": {
        "id": "2BG7X5pY4aIu"
      }
    },
    {
      "cell_type": "code",
      "source": [
        "from sklearn import neighbors\n",
        "\n",
        "X_train, X_test, y_train, y_test = train_test_split(X, y, random_state=12)\n",
        "X_train2, X_test2, y_train2, y_test2 = train_test_split(X_reduced, y, random_state=18)\n",
        "\n",
        "print(\"X original\")\n",
        "print(\"-------------------\")\n",
        "for K in range(20):\n",
        "    K = K+1\n",
        "    model = neighbors.KNeighborsClassifier(n_neighbors = K)\n",
        "    model.fit(X_train, y_train)  #fit the model\n",
        "    y_pred=model.predict(X_test) #make prediction on test set\n",
        "    # find accuracy score\n",
        "    print(\"Accuracy score: \", metrics.accuracy_score(y_test, y_pred), \"for k = \", K)\n",
        "print(\"\\nX reduced\")\n",
        "print(\"-------------------\")\n",
        "for K in range(20):\n",
        "    K = K+1\n",
        "    model = neighbors.KNeighborsClassifier(n_neighbors = K)\n",
        "    model.fit(X_train2, y_train2)  #fit the model\n",
        "    y_pred2=model.predict(X_test2) #make prediction on test set\n",
        "    # find accuracy score\n",
        "    print(\"X reduced Accuracy score: \", metrics.accuracy_score(y_test2, y_pred2), \"for k = \", K)\n"
      ],
      "metadata": {
        "colab": {
          "base_uri": "https://localhost:8080/"
        },
        "id": "lmA5p_Ad4acO",
        "outputId": "0941eb0e-668a-4214-8909-6c136c38dacf"
      },
      "execution_count": null,
      "outputs": [
        {
          "output_type": "stream",
          "name": "stdout",
          "text": [
            "X original\n",
            "-------------------\n",
            "Accuracy score:  0.8971537001897533 for k =  1\n",
            "Accuracy score:  0.8755218216318785 for k =  2\n",
            "Accuracy score:  0.8451612903225807 for k =  3\n",
            "Accuracy score:  0.8368121442125237 for k =  4\n",
            "Accuracy score:  0.8242884250474384 for k =  5\n",
            "Accuracy score:  0.8178368121442126 for k =  6\n",
            "Accuracy score:  0.8144212523719165 for k =  7\n",
            "Accuracy score:  0.8174573055028463 for k =  8\n",
            "Accuracy score:  0.8178368121442126 for k =  9\n",
            "Accuracy score:  0.8159392789373814 for k =  10\n",
            "Accuracy score:  0.8144212523719165 for k =  11\n",
            "Accuracy score:  0.8140417457305503 for k =  12\n",
            "Accuracy score:  0.8106261859582543 for k =  13\n",
            "Accuracy score:  0.8098671726755218 for k =  14\n",
            "Accuracy score:  0.8064516129032258 for k =  15\n",
            "Accuracy score:  0.8068311195445921 for k =  16\n",
            "Accuracy score:  0.8 for k =  17\n",
            "Accuracy score:  0.8022770398481973 for k =  18\n",
            "Accuracy score:  0.8037950664136623 for k =  19\n",
            "Accuracy score:  0.7992409867172675 for k =  20\n",
            "\n",
            "X reduced\n",
            "-------------------\n",
            "X reduced Accuracy score:  0.8990512333965844 for k =  1\n",
            "X reduced Accuracy score:  0.8785578747628083 for k =  2\n",
            "X reduced Accuracy score:  0.8489563567362429 for k =  3\n",
            "X reduced Accuracy score:  0.8432637571157495 for k =  4\n",
            "X reduced Accuracy score:  0.8330170777988615 for k =  5\n",
            "X reduced Accuracy score:  0.8299810246679317 for k =  6\n",
            "X reduced Accuracy score:  0.8178368121442126 for k =  7\n",
            "X reduced Accuracy score:  0.8269449715370019 for k =  8\n",
            "X reduced Accuracy score:  0.8166982922201138 for k =  9\n",
            "X reduced Accuracy score:  0.8216318785578748 for k =  10\n",
            "X reduced Accuracy score:  0.8178368121442126 for k =  11\n",
            "X reduced Accuracy score:  0.822011385199241 for k =  12\n",
            "X reduced Accuracy score:  0.8155597722960152 for k =  13\n",
            "X reduced Accuracy score:  0.8148007590132827 for k =  14\n",
            "X reduced Accuracy score:  0.8163187855787476 for k =  15\n",
            "X reduced Accuracy score:  0.8189753320683112 for k =  16\n",
            "X reduced Accuracy score:  0.818595825426945 for k =  17\n",
            "X reduced Accuracy score:  0.8140417457305503 for k =  18\n",
            "X reduced Accuracy score:  0.8129032258064516 for k =  19\n",
            "X reduced Accuracy score:  0.8113851992409867 for k =  20\n"
          ]
        }
      ]
    },
    {
      "cell_type": "markdown",
      "source": [
        "**KNN conclusion**: We found that k = 1 is the optimal for both X and X_reduced and X original's accuracy. Also accuracy for both dataset is very similar (~0.9 or 90%)"
      ],
      "metadata": {
        "id": "mUI3TpNO6EeT"
      }
    },
    {
      "cell_type": "markdown",
      "source": [
        "\n",
        "\n",
        "---\n",
        "\n"
      ],
      "metadata": {
        "id": "wyzAHfDm1uU6"
      }
    },
    {
      "cell_type": "markdown",
      "source": [
        "<a name=\"section-b8\"></a>**Logistic Regression**\n",
        "\n",
        "Apply Logistic Regression with stratified cross validation and compare error rates"
      ],
      "metadata": {
        "id": "JX3QTbgM6WWq"
      }
    },
    {
      "cell_type": "code",
      "source": [
        "from sklearn.linear_model import LogisticRegression\n",
        "\n",
        "logit=LogisticRegression(multi_class='ovr',solver='liblinear', max_iter=1000)\n",
        "\n",
        "X_train, X_test, y_train, y_test = train_test_split(X, y, random_state=17)\n",
        "X_train2, X_test2, y_train2, y_test2 = train_test_split(X_reduced, y, random_state=13)\n",
        "\n",
        "rfecv = RFECV(estimator=logit, step=1, cv=StratifiedKFold(10), scoring='accuracy')\n",
        "print(\"X original\")\n",
        "print(\"-------------------\")\n",
        "rfecv.fit(X_train, y_train)\n",
        "y_pred=rfecv.predict(X_test)\n",
        "print(\"Accuracy score: \", metrics.accuracy_score(y_test, y_pred))\n",
        "print(\"Recall/Sensitivity: \", metrics.recall_score(y_test, y_pred))\n",
        "print(\"Precision: \", metrics.precision_score(y_test, y_pred))\n",
        "\n",
        "print(\"\\nX reduced\")\n",
        "print(\"-------------------\")\n",
        "rfecv.fit(X_train2, y_train2)\n",
        "y_pred2=rfecv.predict(X_test2)\n",
        "print(\"X_reduced Accuracy score: \", metrics.accuracy_score(y_test2, y_pred2))\n",
        "print(\"X_reduced Recall/Sensitivity: \", metrics.recall_score(y_test2, y_pred2))\n",
        "print(\"X_reduced Precision: \", metrics.precision_score(y_test2, y_pred2))"
      ],
      "metadata": {
        "colab": {
          "base_uri": "https://localhost:8080/"
        },
        "id": "WLnRflj_6Wuq",
        "outputId": "c72dd752-fced-4ff8-8b6a-dc1cb4a64f05"
      },
      "execution_count": 16,
      "outputs": [
        {
          "output_type": "stream",
          "name": "stdout",
          "text": [
            "X original\n",
            "-------------------\n",
            "Accuracy score:  0.8250474383301708\n",
            "Recall/Sensitivity:  0.22285714285714286\n",
            "Precision:  0.6882352941176471\n",
            "\n",
            "X reduced\n",
            "-------------------\n",
            "X_reduced Accuracy score:  0.8333965844402277\n",
            "X_reduced Recall/Sensitivity:  0.30038022813688214\n",
            "X_reduced Precision:  0.6899563318777293\n"
          ]
        }
      ]
    },
    {
      "cell_type": "markdown",
      "source": [
        "**Logistic Regression Conclusion**: X reduced (Accuracy: 0.8334) performs sightly better than X original (Accuracy: 0.8250) for logistic regression but the difference is not significant.\n"
      ],
      "metadata": {
        "id": "nYJ9eWMFyH4S"
      }
    },
    {
      "cell_type": "markdown",
      "source": [
        "\n",
        "\n",
        "---\n",
        "\n"
      ],
      "metadata": {
        "id": "_WsOOSaT1s2j"
      }
    },
    {
      "cell_type": "markdown",
      "source": [
        "<a name=\"section-b9\"></a>**Random Forest (classification)**\n",
        "\n",
        "Apply Random Forest on both the original X and reduced X and compare error rates."
      ],
      "metadata": {
        "id": "CPnjQoIn98iz"
      }
    },
    {
      "cell_type": "code",
      "source": [
        "from sklearn.ensemble import RandomForestClassifier\n",
        "\n",
        "X_train, X_test, y_train, y_test = train_test_split(X, y, random_state=11)\n",
        "X_train2, X_test2, y_train2, y_test2 = train_test_split(X_reduced, y, random_state=12)\n",
        "\n",
        "rfc = RandomForestClassifier(n_estimators=300, criterion='entropy')\n",
        "rfc.fit(X_train,y_train)\n",
        "\n",
        "\n",
        "print(\"X original\")\n",
        "print(\"-------------------\")\n",
        "y_pred = rfc.predict(X_test)\n",
        "# print Accuracy. Sensitivity, and Precision\n",
        "print(\"Accuracy score: \", metrics.accuracy_score(y_test, y_pred))\n",
        "print(\"Recall/Sensitivity: \", metrics.recall_score(y_test, y_pred))\n",
        "print(\"Precision: \", metrics.precision_score(y_test, y_pred))\n",
        "\n",
        "rfc = RandomForestClassifier(n_estimators=300, criterion='entropy')\n",
        "rfc.fit(X_train2,y_train2)\n",
        "\n",
        "print(\"\\nX reduced\")\n",
        "print(\"-------------------\")\n",
        "y_pred2 = rfc.predict(X_test2)\n",
        "# print Accuracy. Sensitivity, and Precision\n",
        "print(\"X_reduced Accuracy score: \", metrics.accuracy_score(y_test2, y_pred2))\n",
        "print(\"X_reduced Recall/Sensitivity: \", metrics.recall_score(y_test2, y_pred2))\n",
        "print(\"X_reduced Precision: \", metrics.precision_score(y_test2, y_pred2))"
      ],
      "metadata": {
        "colab": {
          "base_uri": "https://localhost:8080/"
        },
        "id": "q-tCMAxh98zL",
        "outputId": "65b3078f-c3ed-46e5-c7c7-01fe65fbd4cf"
      },
      "execution_count": null,
      "outputs": [
        {
          "output_type": "stream",
          "name": "stdout",
          "text": [
            "X original\n",
            "-------------------\n",
            "Accuracy score:  0.9499051233396585\n",
            "Recall/Sensitivity:  0.8986866791744841\n",
            "Precision:  0.8599640933572711\n",
            "\n",
            "X reduced\n",
            "-------------------\n",
            "X_reduced Accuracy score:  0.932068311195446\n",
            "X_reduced Recall/Sensitivity:  0.8505535055350554\n",
            "X_reduced Precision:  0.8246869409660107\n"
          ]
        }
      ]
    },
    {
      "cell_type": "markdown",
      "source": [
        "**Random Forest Conclusion**: X original (Accuracy: 0.95) performs sightly better than X reduced (Accuracy: 0.932) for random forest."
      ],
      "metadata": {
        "id": "m7FZ-E6uyi2f"
      }
    },
    {
      "cell_type": "markdown",
      "source": [
        "\n",
        "\n",
        "---\n",
        "\n"
      ],
      "metadata": {
        "id": "Jum-XrqRzHIZ"
      }
    },
    {
      "cell_type": "markdown",
      "source": [
        "<a name=\"section-b10\"></a>**All classification methods conclusion:**\n",
        "\n",
        "Classification algorithms for the selected data ranked from best to worst according to the conclusions above:\n",
        "\n",
        "\n",
        "*   **X original:**\n",
        "Random Forest (Accuracy: 0.95) > Decision Tree (Accuracy: 0.9039) > KNN (Accuracy: 0.8971) > Logistic Regression (Accuracy: 0.825)\n",
        "\n",
        "*   **X reduced:**\n",
        "Random Forest (Accuracy: 0.932) > KNN (Accuracy: 0.899) > Decision Tree (Accuracy: 0.893) > Logistic Regression (Accuracy: 0.8334)\n",
        "\n",
        "**Findings:** For both X original and X reduced, Logistic Regression does not do as well as the other 3 algorithms. It's the only algorithm that rely the linearity of the data for accurate prediction. But since the claim approval (our target variable) are judge on a case by case basis by the agency, the outcome is sometimes unpredictable regardless of the features provided. Therefore the chance of non-linear data is high and it makes sense Logistic regression didn't do as well.\n"
      ],
      "metadata": {
        "id": "Ie140GJazGYQ"
      }
    }
  ]
}